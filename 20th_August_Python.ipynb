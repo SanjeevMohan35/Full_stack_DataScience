{
 "cells": [
  {
   "cell_type": "markdown",
   "id": "ce3bf56b-b63c-4296-a2ea-7cd892c6bdaa",
   "metadata": {},
   "source": [
    "### Python Basics Variable"
   ]
  },
  {
   "cell_type": "markdown",
   "id": "7eec96af-df1c-4fbf-b9b3-b834cf84d39c",
   "metadata": {},
   "source": [
    "1.Declare two variables, `x` and `y`, and assign them integer values.\n",
    "Swap the values of these variables without using any temporary\n",
    "variable."
   ]
  },
  {
   "cell_type": "code",
   "execution_count": 31,
   "id": "28619090-2981-4bf2-a4ef-d4db2d0ad781",
   "metadata": {},
   "outputs": [
    {
     "name": "stdout",
     "output_type": "stream",
     "text": [
      "40\n",
      "20\n"
     ]
    }
   ],
   "source": [
    "#solution\n",
    "\n",
    "x,y= 20,40\n",
    "\n",
    "x = x+y\n",
    "\n",
    "y = x-y\n",
    "\n",
    "x = x-y\n",
    " \n",
    "print(x)\n",
    "\n",
    "print(y)"
   ]
  },
  {
   "cell_type": "markdown",
   "id": "72e96000-657e-4bef-9183-b7ebd8dda00f",
   "metadata": {},
   "source": [
    "2.Create a program that calculates the area of a rectangle. Take the\n",
    "length and width as inputs from the user and store them in variables.\n",
    "Calculate and display the area."
   ]
  },
  {
   "cell_type": "code",
   "execution_count": 58,
   "id": "785fb068-54de-4e59-b9e0-e01e5d03a1d7",
   "metadata": {},
   "outputs": [
    {
     "name": "stdin",
     "output_type": "stream",
     "text": [
      "Please Enter the value of Length(m):  20\n",
      "Please Enter the value of width(m):  30\n"
     ]
    },
    {
     "name": "stdout",
     "output_type": "stream",
     "text": [
      "The Area of the rectangle is 600.0 m^2\n"
     ]
    }
   ],
   "source": [
    "#solution\n",
    "\n",
    "length = float(input(\"Please Enter the value of Length(m): \")) # Considered Float,as the value entered can be in decimals and considered meter unit\n",
    "\n",
    "width= float(input(\"Please Enter the value of width(m): \")) # Considered Float,as the value entered can be in decimals and considered meter unit\n",
    "\n",
    "area = length  * width # used the rectangle formula\n",
    "\n",
    "print(f\"The Area of the rectangle is {area} m^2\")\n"
   ]
  },
  {
   "cell_type": "markdown",
   "id": "21251b50-c3fd-48ec-8e2e-3045b7a0fea5",
   "metadata": {},
   "source": [
    "3.Write a Python program that converts temperature from Celsius to\n",
    "Fahrenheit. Take the temperature in Celsius as input, store it in a\n",
    "variable, convert it to Fahrenheit, and display the result."
   ]
  },
  {
   "cell_type": "code",
   "execution_count": 54,
   "id": "984376d5-51ab-469c-b8e2-e60a60065e7b",
   "metadata": {},
   "outputs": [
    {
     "name": "stdin",
     "output_type": "stream",
     "text": [
      "Please Enter the Temperature in Celsius:  35\n"
     ]
    },
    {
     "name": "stdout",
     "output_type": "stream",
     "text": [
      "95.0 °f\n"
     ]
    }
   ],
   "source": [
    "#solution\n",
    "Temperature_c = float(input(\"Please Enter the Temperature in Celsius: \")) # Considered Float as the value entered can be in decimals \n",
    "\n",
    "Temperature_f= (Temperature_c*9/5)+32 # Used the coversion formula to determine the temperature in fahrenheit\n",
    "\n",
    "print(Temperature_f,\"°f\")"
   ]
  },
  {
   "cell_type": "markdown",
   "id": "28e2192e-3dae-42d3-9ff2-b4a433974c7f",
   "metadata": {},
   "source": [
    "### TOPIC: String Based Questions"
   ]
  },
  {
   "cell_type": "markdown",
   "id": "481d843b-0e3b-48fd-9c14-0b468d402f95",
   "metadata": {},
   "source": [
    "1.Write a Python program that takes a string as input and prints the\n",
    "length of the string."
   ]
  },
  {
   "cell_type": "code",
   "execution_count": 47,
   "id": "d691e8e2-5211-4fe1-847d-55aa26085edd",
   "metadata": {},
   "outputs": [
    {
     "name": "stdin",
     "output_type": "stream",
     "text": [
      " Please Enter the Value of String:    sanj\n"
     ]
    },
    {
     "name": "stdout",
     "output_type": "stream",
     "text": [
      "6\n"
     ]
    }
   ],
   "source": [
    "#solution#1 (if the whitespaces are not considered)\n",
    "string_1 = input(\"Please Enter the Value of String: \")\n",
    "\n",
    "length_of_string = len(string_1)\n",
    "\n",
    "print(length_of_string)"
   ]
  },
  {
   "cell_type": "code",
   "execution_count": 46,
   "id": "1609be1f-3562-4889-89f9-35d678468435",
   "metadata": {},
   "outputs": [
    {
     "name": "stdin",
     "output_type": "stream",
     "text": [
      " Please Enter the Value of String:     sanj\n"
     ]
    },
    {
     "name": "stdout",
     "output_type": "stream",
     "text": [
      "4\n"
     ]
    }
   ],
   "source": [
    "#solution#2 (if the whitespaces are not considered)\n",
    "string_1 = input(\"Please Enter the Value of String: \").strip(\" \")\n",
    "\n",
    "length_of_string = len(string_1)\n",
    "\n",
    "print(length_of_string)"
   ]
  },
  {
   "cell_type": "markdown",
   "id": "b30514a5-b5c4-4883-ae8e-69c2b18693be",
   "metadata": {},
   "source": [
    "Create a program that takes a sentence from the user and counts the\n",
    "number of vowels (a, e, i, o, u) in the string."
   ]
  },
  {
   "cell_type": "code",
   "execution_count": 35,
   "id": "a7dcb0e9-d4e5-4a62-a52c-976606fff5e1",
   "metadata": {},
   "outputs": [
    {
     "name": "stdin",
     "output_type": "stream",
     "text": [
      " Please Enter the Value of String:  sanjeeiou\n"
     ]
    },
    {
     "name": "stdout",
     "output_type": "stream",
     "text": [
      "6\n"
     ]
    }
   ],
   "source": [
    "#solution\n",
    "string_2 = input(\"Please Enter the Value of String: \")\n",
    "\n",
    "vowel_count= string_2.count('a')+string_2.count('e')+string_2.count('i')+string_2.count('o')+string_2.count('u') # used count property of string to count the char passed\n",
    "\n",
    "print(vowel_count)"
   ]
  },
  {
   "cell_type": "markdown",
   "id": "222c04ed-8bc3-4615-8d4f-804c730f9d9d",
   "metadata": {},
   "source": [
    "3.Given a string, reverse the order of characters using string slicing and\n",
    "print the reversed string."
   ]
  },
  {
   "cell_type": "code",
   "execution_count": 36,
   "id": "86bafefd-5756-4566-9f8c-c3acf1d44472",
   "metadata": {},
   "outputs": [
    {
     "name": "stdin",
     "output_type": "stream",
     "text": [
      " Please Enter the Value of String:  sajeev\n"
     ]
    },
    {
     "name": "stdout",
     "output_type": "stream",
     "text": [
      "veejas\n"
     ]
    }
   ],
   "source": [
    "#solution\n",
    "string_3 = input(\"Please Enter the Value of String: \")\n",
    "\n",
    "string_3_reversed = string_3[::-1]\n",
    "\n",
    "print(string_3_reversed)"
   ]
  },
  {
   "cell_type": "markdown",
   "id": "306cb36b-9c90-47d1-a03d-547cbdc9f571",
   "metadata": {},
   "source": [
    "4.Write a program that takes a string as input and checks if it is a\n",
    "palindrome (reads the same forwards and backwards)."
   ]
  },
  {
   "cell_type": "code",
   "execution_count": 43,
   "id": "8be85fcc-8eb4-4d9a-b3c9-a95606d906c5",
   "metadata": {},
   "outputs": [
    {
     "name": "stdin",
     "output_type": "stream",
     "text": [
      "Please Enter the Value of String:  malayalam\n"
     ]
    },
    {
     "name": "stdout",
     "output_type": "stream",
     "text": [
      "Entered String: malayalam\n",
      "The Reversed String: malayalam\n",
      "Is the Entered string is palindromic: True\n"
     ]
    }
   ],
   "source": [
    "#solution\n",
    "string_4 = input(\"Please Enter the Value of String: \")\n",
    "\n",
    "reversed_string = string_4[::-1] # Let us reverse the string value\n",
    "\n",
    "string_4 == reversed_string # Let us check for the condition whether the entered string and its reversed are same; output=True/False\n",
    "\n",
    "print(f\"Entered String: {string_4}\") # used a formated string method\n",
    "\n",
    "print(f\"The Reversed String: {reversed_string}\") # used a formated string method\n",
    "\n",
    "print(f\"Is the Entered string is palindromic: {string_4 == reversed_string}\")# used a formated string method,if the value is true it is palindromic else not a palindromic word\n"
   ]
  },
  {
   "cell_type": "markdown",
   "id": "5d494fe7-9913-4b96-a322-5139ef678cfe",
   "metadata": {},
   "source": [
    "5.Create a program that takes a string as input and removes all the\n",
    "spaces from it. Print the modified string without spaces."
   ]
  },
  {
   "cell_type": "code",
   "execution_count": 59,
   "id": "66b143cf-3b31-4afd-801d-0c624fc4e07f",
   "metadata": {},
   "outputs": [
    {
     "name": "stdin",
     "output_type": "stream",
     "text": [
      "Please Enter the Value of String:  vhg\n"
     ]
    },
    {
     "name": "stdout",
     "output_type": "stream",
     "text": [
      "vhg\n"
     ]
    }
   ],
   "source": [
    "#solution\n",
    "string_5 = input(\"Please Enter the Value of String: \")\n",
    "\n",
    "formated_string = string_5.strip(\" \") #used strip property of string to remove the spaces.\n",
    "\n",
    "print(formated_string)"
   ]
  }
 ],
 "metadata": {
  "kernelspec": {
   "display_name": "Python 3 (ipykernel)",
   "language": "python",
   "name": "python3"
  },
  "language_info": {
   "codemirror_mode": {
    "name": "ipython",
    "version": 3
   },
   "file_extension": ".py",
   "mimetype": "text/x-python",
   "name": "python",
   "nbconvert_exporter": "python",
   "pygments_lexer": "ipython3",
   "version": "3.10.8"
  }
 },
 "nbformat": 4,
 "nbformat_minor": 5
}
