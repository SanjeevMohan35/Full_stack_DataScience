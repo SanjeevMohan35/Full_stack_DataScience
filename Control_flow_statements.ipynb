{
 "cells": [
  {
   "cell_type": "code",
   "execution_count": 1,
   "id": "bf1a075b-74b8-4955-95d6-2d7d90a93ecf",
   "metadata": {},
   "outputs": [
    {
     "name": "stdout",
     "output_type": "stream",
     "text": [
      "my age is : 32\n"
     ]
    }
   ],
   "source": [
    "age=32\n",
    "print(\"my age is :\",age)"
   ]
  },
  {
   "cell_type": "code",
   "execution_count": 5,
   "id": "f7e88f23-0950-414d-979f-890b7501a6c4",
   "metadata": {},
   "outputs": [
    {
     "name": "stdout",
     "output_type": "stream",
     "text": [
      "my age is : 32\n"
     ]
    }
   ],
   "source": [
    "print(f\"my age is : {age}\")"
   ]
  },
  {
   "cell_type": "code",
   "execution_count": 7,
   "id": "fb10228b-8e2e-46b7-834d-4732d876590e",
   "metadata": {},
   "outputs": [
    {
     "name": "stdout",
     "output_type": "stream",
     "text": [
      " my name is krish and i'm 32 years old\n"
     ]
    }
   ],
   "source": [
    "name=\"krish\"\n",
    "age=32\n",
    "print(\" my name is {} and i'm {} years old\".format(name,age))"
   ]
  },
  {
   "cell_type": "code",
   "execution_count": 9,
   "id": "60525333-4d13-496d-9e8c-9e56db6194f0",
   "metadata": {},
   "outputs": [
    {
     "name": "stdout",
     "output_type": "stream",
     "text": [
      " my name is krish and i'm 32 years old\n"
     ]
    }
   ],
   "source": [
    "print(\" my name is {firstname} and i'm {age} years old\".format(firstname=name,age=age))"
   ]
  },
  {
   "cell_type": "code",
   "execution_count": 11,
   "id": "390c5826-1a9a-4114-a928-965b47dab987",
   "metadata": {},
   "outputs": [],
   "source": [
    "name=\"sanjeev\"\n",
    "age=32\n",
    "degree=\"BE\""
   ]
  },
  {
   "cell_type": "code",
   "execution_count": 12,
   "id": "d3746634-4f8a-4008-b675-37b094a2a87c",
   "metadata": {},
   "outputs": [
    {
     "name": "stdout",
     "output_type": "stream",
     "text": [
      "My age is 32 and i have completed : my degree of BE with the name of sanjeev\n"
     ]
    }
   ],
   "source": [
    "print(f\"My age is {age} and i have completed : my degree of {degree} with the name of {name}\")"
   ]
  },
  {
   "cell_type": "code",
   "execution_count": 13,
   "id": "ad86ddc2-8f39-40ec-bc6d-f03f60443333",
   "metadata": {},
   "outputs": [
    {
     "name": "stdout",
     "output_type": "stream",
     "text": [
      "My age is 32 and i have completed : my degree of BE with the name of sanjeev\n"
     ]
    }
   ],
   "source": [
    "print(\"My age is {age} and i have completed : my degree of {degree} with the name of {name}\".format(age=age,degree=degree,name=name))"
   ]
  },
  {
   "cell_type": "markdown",
   "id": "70023e7a-b20d-413a-a203-f5a9c1f5e4a9",
   "metadata": {},
   "source": [
    "## Control Flow \n",
    "### Decision Making statements\n",
    "* If \n",
    "* If Else\n",
    "* if elif else\n",
    "* Nested if\n",
    "* Single Statement Suites\n"
   ]
  },
  {
   "cell_type": "code",
   "execution_count": null,
   "id": "5c5075b3-9517-4bd6-98a9-4709e11e953f",
   "metadata": {},
   "outputs": [],
   "source": []
  },
  {
   "cell_type": "code",
   "execution_count": null,
   "id": "728b7a5e-1f5b-49a7-9463-44baf63a00b5",
   "metadata": {},
   "outputs": [],
   "source": []
  },
  {
   "cell_type": "code",
   "execution_count": 40,
   "id": "e68de09d-738c-4cd7-9102-9d2d81d1cf96",
   "metadata": {},
   "outputs": [
    {
     "name": "stdin",
     "output_type": "stream",
     "text": [
      "Please Enter Your Name: sds\n",
      "Please enter the age: 15\n"
     ]
    },
    {
     "name": "stdout",
     "output_type": "stream",
     "text": [
      "sds you are not eligible to vote\n"
     ]
    }
   ],
   "source": [
    "name=input(\"Please Enter Your Name:\")\n",
    "age= int(input(\"Please enter the age:\"))\n",
    "\n",
    "if age>=18:\n",
    "    print(\"{name} you are eligible to vote\".format(name=name))\n",
    "    \n",
    "else:\n",
    "    print(\"{name} you are not eligible to vote\".format(name=name))\n",
    "    "
   ]
  },
  {
   "cell_type": "code",
   "execution_count": 49,
   "id": "29dc22be-751f-41e8-9363-e9ed5368d0d5",
   "metadata": {},
   "outputs": [
    {
     "name": "stdin",
     "output_type": "stream",
     "text": [
      "Please enter the age: 25\n"
     ]
    },
    {
     "name": "stdout",
     "output_type": "stream",
     "text": [
      "You are young blood \n"
     ]
    }
   ],
   "source": [
    "age= int(input(\"Please enter the age:\"))\n",
    "\n",
    "if age>=18  and age<=45:\n",
    "    print(\"You are young blood \")\n"
   ]
  },
  {
   "cell_type": "code",
   "execution_count": 62,
   "id": "3c699859-5a13-4f84-9656-da1d386d6a6a",
   "metadata": {},
   "outputs": [
    {
     "name": "stdin",
     "output_type": "stream",
     "text": [
      "Please enter the price: -1\n"
     ]
    },
    {
     "name": "stdout",
     "output_type": "stream",
     "text": [
      "The Product price after 40% off is:  -0.6 rs\n"
     ]
    }
   ],
   "source": [
    "product=float(input(\"Please enter the price:\"))\n",
    "\n",
    "if product>3000:\n",
    "    print(f\"The Product price after 20% off is:  {product*0.80} rs\")\n",
    "elif product>=2000 and product<=3000:\n",
    "    print(f\"The Product price after 30% off is:  {product*0.70} rs\")\n",
    "elif product<=1000 and product<=2000:\n",
    "    print(f\"The Product price after 40% off is:  {product*0.60} rs\")\n",
    "else:\n",
    "    print(\"Go die\")\n",
    "    "
   ]
  },
  {
   "cell_type": "code",
   "execution_count": null,
   "id": "86da2e5c-553a-4500-a4bd-0d2fa800cf8b",
   "metadata": {},
   "outputs": [],
   "source": []
  },
  {
   "cell_type": "code",
   "execution_count": null,
   "id": "3bd67636-a900-41ca-835a-4534cf5e87bd",
   "metadata": {},
   "outputs": [],
   "source": []
  },
  {
   "cell_type": "code",
   "execution_count": null,
   "id": "5ed53fcb-6775-4faa-8298-814b2d54491e",
   "metadata": {},
   "outputs": [],
   "source": []
  },
  {
   "cell_type": "code",
   "execution_count": null,
   "id": "e7741980-2b0e-4ea3-ad80-fa803fb7156c",
   "metadata": {},
   "outputs": [],
   "source": []
  },
  {
   "cell_type": "code",
   "execution_count": null,
   "id": "3745ee7f-c3f4-426d-8622-20a237ec06f9",
   "metadata": {},
   "outputs": [],
   "source": []
  },
  {
   "cell_type": "code",
   "execution_count": null,
   "id": "6b383a42-408a-4e54-8eff-3c2bb84328d2",
   "metadata": {},
   "outputs": [],
   "source": []
  },
  {
   "cell_type": "code",
   "execution_count": null,
   "id": "cdbf99e2-5509-460c-ae44-27d740a34cfa",
   "metadata": {},
   "outputs": [],
   "source": []
  }
 ],
 "metadata": {
  "kernelspec": {
   "display_name": "Python 3 (ipykernel)",
   "language": "python",
   "name": "python3"
  },
  "language_info": {
   "codemirror_mode": {
    "name": "ipython",
    "version": 3
   },
   "file_extension": ".py",
   "mimetype": "text/x-python",
   "name": "python",
   "nbconvert_exporter": "python",
   "pygments_lexer": "ipython3",
   "version": "3.10.8"
  }
 },
 "nbformat": 4,
 "nbformat_minor": 5
}
